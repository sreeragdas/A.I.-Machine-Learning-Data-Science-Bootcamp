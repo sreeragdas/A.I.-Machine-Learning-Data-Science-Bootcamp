{
 "cells": [
  {
   "cell_type": "code",
   "execution_count": 2,
   "id": "35ade7ae-8578-4d3f-947f-29975b5776c8",
   "metadata": {},
   "outputs": [],
   "source": [
    "import numpy as np"
   ]
  },
  {
   "cell_type": "code",
   "execution_count": 4,
   "id": "74da2b63-487f-478f-9ebb-8793fecd1159",
   "metadata": {},
   "outputs": [
    {
     "data": {
      "text/plain": [
       "array([1, 2, 3])"
      ]
     },
     "execution_count": 4,
     "metadata": {},
     "output_type": "execute_result"
    }
   ],
   "source": [
    "a1=np.array([1,2,3])\n",
    "a1"
   ]
  },
  {
   "cell_type": "code",
   "execution_count": 6,
   "id": "3769ab2a-dcbb-4e08-9d39-9a5f21bfa257",
   "metadata": {},
   "outputs": [
    {
     "data": {
      "text/plain": [
       "array([[1, 2, 3],\n",
       "       [4, 5, 6]])"
      ]
     },
     "execution_count": 6,
     "metadata": {},
     "output_type": "execute_result"
    }
   ],
   "source": [
    "a2=np.array([[1,2,3],[4,5,6]]) \n",
    "a2"
   ]
  },
  {
   "cell_type": "code",
   "execution_count": 11,
   "id": "b615127b-ee77-4e24-a3b1-2d2b851703dd",
   "metadata": {},
   "outputs": [
    {
     "data": {
      "text/plain": [
       "numpy.ndarray"
      ]
     },
     "execution_count": 11,
     "metadata": {},
     "output_type": "execute_result"
    }
   ],
   "source": [
    "type(a1)"
   ]
  },
  {
   "cell_type": "code",
   "execution_count": 14,
   "id": "0822d191-2ab3-4d3a-a5e0-ba87a65c3a75",
   "metadata": {},
   "outputs": [
    {
     "data": {
      "text/plain": [
       "array([[[ 1,  2,  3],\n",
       "        [ 4,  5,  6],\n",
       "        [ 7,  8,  9],\n",
       "        [10, 11, 12],\n",
       "        [13, 14, 15],\n",
       "        [16, 17, 18]]])"
      ]
     },
     "execution_count": 14,
     "metadata": {},
     "output_type": "execute_result"
    }
   ],
   "source": [
    "a3=np.array([[[1,2,3],[4,5,6],[7,8,9],[10,11,12],[13,14,15],[16,17,18]]])\n",
    "a3"
   ]
  },
  {
   "cell_type": "code",
   "execution_count": 15,
   "id": "bb30721a-2cd7-47c3-aaa8-8ef117da6bd6",
   "metadata": {},
   "outputs": [
    {
     "data": {
      "text/plain": [
       "(3,)"
      ]
     },
     "execution_count": 15,
     "metadata": {},
     "output_type": "execute_result"
    }
   ],
   "source": [
    "np.shape(a1)"
   ]
  },
  {
   "cell_type": "code",
   "execution_count": 16,
   "id": "9d373222-b8fb-496c-93a2-fb48f3b617ad",
   "metadata": {},
   "outputs": [
    {
     "data": {
      "text/plain": [
       "(2, 3)"
      ]
     },
     "execution_count": 16,
     "metadata": {},
     "output_type": "execute_result"
    }
   ],
   "source": [
    "np.shape(a2)"
   ]
  },
  {
   "cell_type": "code",
   "execution_count": 17,
   "id": "9711ced3-4c47-407e-8d90-8baaa5d28d56",
   "metadata": {},
   "outputs": [
    {
     "data": {
      "text/plain": [
       "(1, 6, 3)"
      ]
     },
     "execution_count": 17,
     "metadata": {},
     "output_type": "execute_result"
    }
   ],
   "source": [
    "np.shape(a3)"
   ]
  },
  {
   "cell_type": "code",
   "execution_count": 19,
   "id": "0a1e5b92-360a-4f11-ad4b-1d9bf559d08c",
   "metadata": {},
   "outputs": [
    {
     "data": {
      "text/plain": [
       "1"
      ]
     },
     "execution_count": 19,
     "metadata": {},
     "output_type": "execute_result"
    }
   ],
   "source": [
    "a1.ndim"
   ]
  },
  {
   "cell_type": "code",
   "execution_count": 22,
   "id": "f0023621-d96a-44bc-bb73-cc3e0b1f300a",
   "metadata": {},
   "outputs": [
    {
     "data": {
      "text/plain": [
       "2"
      ]
     },
     "execution_count": 22,
     "metadata": {},
     "output_type": "execute_result"
    }
   ],
   "source": [
    "a2.ndim \n"
   ]
  },
  {
   "cell_type": "code",
   "execution_count": 23,
   "id": "372455dd-7caf-44d0-91ad-cbe775473200",
   "metadata": {},
   "outputs": [
    {
     "data": {
      "text/plain": [
       "3"
      ]
     },
     "execution_count": 23,
     "metadata": {},
     "output_type": "execute_result"
    }
   ],
   "source": [
    "a3.ndim"
   ]
  },
  {
   "cell_type": "code",
   "execution_count": 24,
   "id": "a46b53a4-992a-4206-9522-f2cd15f38abf",
   "metadata": {},
   "outputs": [
    {
     "data": {
      "text/plain": [
       "(3, 6, 18)"
      ]
     },
     "execution_count": 24,
     "metadata": {},
     "output_type": "execute_result"
    }
   ],
   "source": [
    "a1.size ,a2.size , a3.size"
   ]
  },
  {
   "cell_type": "code",
   "execution_count": 33,
   "id": "92177709-0f6a-4f7d-888b-701e8d82cb58",
   "metadata": {},
   "outputs": [
    {
     "data": {
      "text/html": [
       "<div>\n",
       "<style scoped>\n",
       "    .dataframe tbody tr th:only-of-type {\n",
       "        vertical-align: middle;\n",
       "    }\n",
       "\n",
       "    .dataframe tbody tr th {\n",
       "        vertical-align: top;\n",
       "    }\n",
       "\n",
       "    .dataframe thead th {\n",
       "        text-align: right;\n",
       "    }\n",
       "</style>\n",
       "<table border=\"1\" class=\"dataframe\">\n",
       "  <thead>\n",
       "    <tr style=\"text-align: right;\">\n",
       "      <th></th>\n",
       "      <th>0</th>\n",
       "      <th>1</th>\n",
       "      <th>2</th>\n",
       "    </tr>\n",
       "  </thead>\n",
       "  <tbody>\n",
       "    <tr>\n",
       "      <th>0</th>\n",
       "      <td>1</td>\n",
       "      <td>2</td>\n",
       "      <td>3</td>\n",
       "    </tr>\n",
       "    <tr>\n",
       "      <th>1</th>\n",
       "      <td>4</td>\n",
       "      <td>5</td>\n",
       "      <td>6</td>\n",
       "    </tr>\n",
       "  </tbody>\n",
       "</table>\n",
       "</div>"
      ],
      "text/plain": [
       "   0  1  2\n",
       "0  1  2  3\n",
       "1  4  5  6"
      ]
     },
     "execution_count": 33,
     "metadata": {},
     "output_type": "execute_result"
    }
   ],
   "source": [
    "import pandas as pd\n",
    "data =pd.DataFrame(a2)\n",
    "data\n"
   ]
  },
  {
   "cell_type": "code",
   "execution_count": 6,
   "id": "e23d1597-6481-4c6b-9b31-158e3bb734f5",
   "metadata": {},
   "outputs": [
    {
     "data": {
      "text/plain": [
       "array([[1., 1.],\n",
       "       [1., 1.],\n",
       "       [1., 1.],\n",
       "       [1., 1.],\n",
       "       [1., 1.],\n",
       "       [1., 1.],\n",
       "       [1., 1.],\n",
       "       [1., 1.],\n",
       "       [1., 1.],\n",
       "       [1., 1.]])"
      ]
     },
     "execution_count": 6,
     "metadata": {},
     "output_type": "execute_result"
    }
   ],
   "source": [
    "once=np.ones((10,2))\n",
    "once"
   ]
  },
  {
   "cell_type": "code",
   "execution_count": 8,
   "id": "1a77d78a-326a-42fd-acd8-c9ef9ee307ec",
   "metadata": {},
   "outputs": [
    {
     "data": {
      "text/plain": [
       "array([[0., 0., 0.],\n",
       "       [0., 0., 0.]])"
      ]
     },
     "execution_count": 8,
     "metadata": {},
     "output_type": "execute_result"
    }
   ],
   "source": [
    "zeros=np.zeros((2,3))\n",
    "zeros"
   ]
  },
  {
   "cell_type": "code",
   "execution_count": 9,
   "id": "47dda32a-1ec3-4619-a2b7-a5b08c30d35b",
   "metadata": {},
   "outputs": [
    {
     "data": {
      "text/plain": [
       "array([[1, 1],\n",
       "       [1, 1],\n",
       "       [1, 1],\n",
       "       [1, 1],\n",
       "       [1, 1],\n",
       "       [1, 1],\n",
       "       [1, 1],\n",
       "       [1, 1],\n",
       "       [1, 1],\n",
       "       [1, 1]])"
      ]
     },
     "execution_count": 9,
     "metadata": {},
     "output_type": "execute_result"
    }
   ],
   "source": [
    "# You can change the datatype with .astype()\n",
    "once.astype(int)"
   ]
  },
  {
   "cell_type": "code",
   "execution_count": 10,
   "id": "040edcdf-9237-41b8-84f2-d0b07e88b6a1",
   "metadata": {},
   "outputs": [
    {
     "data": {
      "text/plain": [
       "array([['1.0', '1.0'],\n",
       "       ['1.0', '1.0'],\n",
       "       ['1.0', '1.0'],\n",
       "       ['1.0', '1.0'],\n",
       "       ['1.0', '1.0'],\n",
       "       ['1.0', '1.0'],\n",
       "       ['1.0', '1.0'],\n",
       "       ['1.0', '1.0'],\n",
       "       ['1.0', '1.0'],\n",
       "       ['1.0', '1.0']], dtype='<U32')"
      ]
     },
     "execution_count": 10,
     "metadata": {},
     "output_type": "execute_result"
    }
   ],
   "source": [
    "once.astype(str)"
   ]
  },
  {
   "cell_type": "code",
   "execution_count": 11,
   "id": "0785eb53-3750-4673-b625-ec8060951203",
   "metadata": {},
   "outputs": [
    {
     "data": {
      "text/plain": [
       "dtype('float64')"
      ]
     },
     "execution_count": 11,
     "metadata": {},
     "output_type": "execute_result"
    }
   ],
   "source": [
    "zeros.dtype\n"
   ]
  },
  {
   "cell_type": "code",
   "execution_count": 16,
   "id": "dbbee84d-fea9-4a8a-bdf7-a9a1ebfe6141",
   "metadata": {},
   "outputs": [
    {
     "data": {
      "text/plain": [
       "array([[2, 9],\n",
       "       [7, 3],\n",
       "       [2, 3],\n",
       "       [0, 0]], dtype=int32)"
      ]
     },
     "execution_count": 16,
     "metadata": {},
     "output_type": "execute_result"
    }
   ],
   "source": [
    "#random int\n",
    "random=np.random.randint(10,size=(4,2))\n",
    "random"
   ]
  },
  {
   "cell_type": "code",
   "execution_count": 19,
   "id": "5d5a5441-6fef-4c3d-94f7-1fa087f930e4",
   "metadata": {},
   "outputs": [
    {
     "data": {
      "text/plain": [
       "dtype('int32')"
      ]
     },
     "execution_count": 19,
     "metadata": {},
     "output_type": "execute_result"
    }
   ],
   "source": [
    "random.dtype"
   ]
  },
  {
   "cell_type": "raw",
   "id": "8484ca5f-9440-4111-94bc-71dac3166e3b",
   "metadata": {},
   "source": [
    "random.types"
   ]
  },
  {
   "cell_type": "code",
   "execution_count": 24,
   "id": "bcfcf98d-9ba2-45d6-b1dd-b6d3472c60e6",
   "metadata": {},
   "outputs": [
    {
     "data": {
      "text/plain": [
       "array([0, 2, 4, 6, 8])"
      ]
     },
     "execution_count": 24,
     "metadata": {},
     "output_type": "execute_result"
    }
   ],
   "source": [
    "arrange= np.arange(0,10,2)\n",
    "arrange"
   ]
  },
  {
   "cell_type": "code",
   "execution_count": 31,
   "id": "38e19483-710f-4c9f-b5ac-c76c1ae9c127",
   "metadata": {},
   "outputs": [
    {
     "data": {
      "text/plain": [
       "array([[0.19932385, 0.17321363, 0.76949085],\n",
       "       [0.31308617, 0.73239785, 0.2175977 ],\n",
       "       [0.54684312, 0.02708357, 0.90689196],\n",
       "       [0.79748265, 0.69400321, 0.06274785],\n",
       "       [0.30668684, 0.22746556, 0.41953249]])"
      ]
     },
     "execution_count": 31,
     "metadata": {},
     "output_type": "execute_result"
    }
   ],
   "source": [
    "#random folt\n",
    "rand=np.random.random((5,3))\n",
    "rand"
   ]
  },
  {
   "cell_type": "code",
   "execution_count": 30,
   "id": "3feaaff5-ce9a-4ef3-bf8a-907bd649aee5",
   "metadata": {},
   "outputs": [
    {
     "data": {
      "text/plain": [
       "array([[0.65811361, 0.48890465, 0.84709081],\n",
       "       [0.7756824 , 0.46116173, 0.85781754],\n",
       "       [0.22358298, 0.59774549, 0.96712624],\n",
       "       [0.84340178, 0.4287982 , 0.12888378],\n",
       "       [0.75863778, 0.15549515, 0.73543936]])"
      ]
     },
     "execution_count": 30,
     "metadata": {},
     "output_type": "execute_result"
    }
   ],
   "source": [
    "ran=np.random.rand(5,3)\n",
    "ran"
   ]
  },
  {
   "cell_type": "code",
   "execution_count": 34,
   "id": "d356b8c0-f90e-4c99-b643-792bf0bc2bea",
   "metadata": {},
   "outputs": [
    {
     "data": {
      "text/plain": [
       "array([[5, 0, 3],\n",
       "       [3, 7, 9],\n",
       "       [3, 5, 2],\n",
       "       [4, 7, 6],\n",
       "       [8, 8, 1]], dtype=int32)"
      ]
     },
     "execution_count": 34,
     "metadata": {},
     "output_type": "execute_result"
    }
   ],
   "source": [
    "np.random.seed(0)\n",
    "rand=np.random.randint(10,size=(5,3))\n",
    "rand"
   ]
  },
  {
   "cell_type": "code",
   "execution_count": 38,
   "id": "46923b9a-3b7b-4b19-9ffa-d75873381599",
   "metadata": {},
   "outputs": [
    {
     "data": {
      "text/plain": [
       "array([[[[5, 0, 3, 3, 7],\n",
       "         [9, 3, 5, 2, 4],\n",
       "         [7, 6, 8, 8, 1],\n",
       "         [6, 7, 7, 8, 1]],\n",
       "\n",
       "        [[5, 9, 8, 9, 4],\n",
       "         [3, 0, 3, 5, 0],\n",
       "         [2, 3, 8, 1, 3],\n",
       "         [3, 3, 7, 0, 1]],\n",
       "\n",
       "        [[9, 9, 0, 4, 7],\n",
       "         [3, 2, 7, 2, 0],\n",
       "         [0, 4, 5, 5, 6],\n",
       "         [8, 4, 1, 4, 9]]],\n",
       "\n",
       "\n",
       "       [[[8, 1, 1, 7, 9],\n",
       "         [9, 3, 6, 7, 2],\n",
       "         [0, 3, 5, 9, 4],\n",
       "         [4, 6, 4, 4, 3]],\n",
       "\n",
       "        [[4, 4, 8, 4, 3],\n",
       "         [7, 5, 5, 0, 1],\n",
       "         [5, 9, 3, 0, 5],\n",
       "         [0, 1, 2, 4, 2]],\n",
       "\n",
       "        [[0, 3, 2, 0, 7],\n",
       "         [5, 9, 0, 2, 7],\n",
       "         [2, 9, 2, 3, 3],\n",
       "         [2, 3, 4, 1, 2]]]], dtype=int32)"
      ]
     },
     "execution_count": 38,
     "metadata": {},
     "output_type": "execute_result"
    }
   ],
   "source": [
    "np.random.seed(0)\n",
    "randno=np.random.randint(10,size=(2,3,4,5))\n",
    "randno"
   ]
  },
  {
   "cell_type": "code",
   "execution_count": 39,
   "id": "5d72e035-a8f9-49ed-8432-5a4347cf9721",
   "metadata": {},
   "outputs": [
    {
     "data": {
      "text/plain": [
       "array([[[7, 4, 1, 1],\n",
       "        [4, 0, 3, 1],\n",
       "        [7, 0, 6, 9]],\n",
       "\n",
       "       [[9, 2, 4, 3],\n",
       "        [3, 1, 5, 2],\n",
       "        [7, 7, 3, 2]]], dtype=int32)"
      ]
     },
     "execution_count": 39,
     "metadata": {},
     "output_type": "execute_result"
    }
   ],
   "source": [
    "randno[:,:,:,4]"
   ]
  },
  {
   "cell_type": "code",
   "execution_count": 37,
   "id": "ed5ad17c-f4fc-4ee6-b79f-58862ea9d717",
   "metadata": {},
   "outputs": [
    {
     "data": {
      "text/plain": [
       "array([[[8, 9, 5, 1],\n",
       "        [0, 4, 2, 5],\n",
       "        [4, 7, 7, 9]],\n",
       "\n",
       "       [[4, 4, 0, 0],\n",
       "        [4, 0, 2, 3],\n",
       "        [1, 6, 0, 3]]], dtype=int32)"
      ]
     },
     "execution_count": 37,
     "metadata": {},
     "output_type": "execute_result"
    }
   ],
   "source": [
    "randno[:,:,:,3]"
   ]
  },
  {
   "cell_type": "code",
   "execution_count": null,
   "id": "9089d2c9-c9aa-4a5e-9155-7ecdbd3df3d5",
   "metadata": {},
   "outputs": [],
   "source": []
  }
 ],
 "metadata": {
  "kernelspec": {
   "display_name": "Python 3 (ipykernel)",
   "language": "python",
   "name": "python3"
  },
  "language_info": {
   "codemirror_mode": {
    "name": "ipython",
    "version": 3
   },
   "file_extension": ".py",
   "mimetype": "text/x-python",
   "name": "python",
   "nbconvert_exporter": "python",
   "pygments_lexer": "ipython3",
   "version": "3.13.2"
  }
 },
 "nbformat": 4,
 "nbformat_minor": 5
}
